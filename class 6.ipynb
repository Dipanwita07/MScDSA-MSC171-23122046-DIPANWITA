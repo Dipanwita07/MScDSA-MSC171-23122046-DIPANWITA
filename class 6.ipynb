{
 "cells": [
  {
   "cell_type": "code",
   "execution_count": 8,
   "metadata": {},
   "outputs": [
    {
     "data": {
      "text/plain": [
       "True"
      ]
     },
     "execution_count": 8,
     "metadata": {},
     "output_type": "execute_result"
    }
   ],
   "source": [
    "#Define a class expense tracker that stores the expenses,and income in a dictionary\n",
    "#implement the method to store the transaction, view transactions and calculate the total expense/income\n",
    "class expenseTracker:\n",
    "    def __init__(self):\n",
    "        self.transactions ={\n",
    "            \"expenses\": [],\n",
    "            \"income\" : [],\n",
    "        }\n",
    "    def storeTransaction(self, type, category, cost, desc, date):  #expenses/income #type/category #cost/amount #description on the transaction #date [dd/mm/yyyy]\n",
    "        transaction = {\n",
    "            \"Category\": category,\n",
    "            \"Cost\" : cost,\n",
    "            \"Description\":desc,\n",
    "            \"Date\" : date,\n",
    "        }\n",
    "        if type == \"expenses\":\n",
    "            self.transactions [\"expenses\"].append(transaction)\n",
    "        else:\n",
    "            self.transactions [\"income\"].append(transaction)\n",
    "            return True\n",
    "    def view_transactions(self):\n",
    "        print(\"INCOME\")\n",
    "        for expense in self.transactions[\"expenses\"]:\n",
    "            print(expense)\n",
    "        print(\"EXPENSES\")\n",
    "        for expense in self.transactions[\"income\"]:   #expense is a variable\n",
    "            print(expense)\n",
    "    def total_incomeexpense(self):\n",
    "        print(\"Total Income\") \n",
    "        total_income = 0\n",
    "        for income in self.transactions[\"income\"]:\n",
    "            total_income =+ income[\"Cost\"]\n",
    "        print(\"Total Expense\")\n",
    "        total_expense = 0\n",
    "        for expenses in self.transactions[\"expenses\"]:\n",
    "            total_income =+ expenses[\"Cost\"]\n",
    "        print(total_expense)\n",
    "        \n",
    "mytransaction = expenseTracker()\n",
    "mytransaction.storeTransaction(\"expense\",\"Electricity Bill\", 4500, \"MDHC\",\"22/09/2023\")\n",
    "mytransaction.storeTransaction(\"income\",\"Pocket Money\", 10500, \"From Parents\",\"22/09/2023\")\n",
    "mytransaction.storeTransaction(\"expense\",\"Food\", 500, \"Cafe by the Valle\",\"22/09/2023\")        \n",
    "\n"
   ]
  },
  {
   "cell_type": "code",
   "execution_count": 16,
   "metadata": {},
   "outputs": [
    {
     "ename": "AttributeError",
     "evalue": "'expenseTracker' object has no attribute 'transactions'",
     "output_type": "error",
     "traceback": [
      "\u001b[1;31m---------------------------------------------------------------------------\u001b[0m",
      "\u001b[1;31mAttributeError\u001b[0m                            Traceback (most recent call last)",
      "\u001b[1;32mc:\\Users\\dipad\\OneDrive\\Desktop\\MScDSA-MSC171-23122046-DIPANWITA\\class 6.ipynb Cell 2\u001b[0m line \u001b[0;36m4\n\u001b[0;32m     <a href='vscode-notebook-cell:/c%3A/Users/dipad/OneDrive/Desktop/MScDSA-MSC171-23122046-DIPANWITA/class%206.ipynb#W2sZmlsZQ%3D%3D?line=40'>41</a>\u001b[0m         \u001b[39mprint\u001b[39m(total_expense)\n\u001b[0;32m     <a href='vscode-notebook-cell:/c%3A/Users/dipad/OneDrive/Desktop/MScDSA-MSC171-23122046-DIPANWITA/class%206.ipynb#W2sZmlsZQ%3D%3D?line=44'>45</a>\u001b[0m mytransactions\u001b[39m=\u001b[39m expenseTracker()\n\u001b[1;32m---> <a href='vscode-notebook-cell:/c%3A/Users/dipad/OneDrive/Desktop/MScDSA-MSC171-23122046-DIPANWITA/class%206.ipynb#W2sZmlsZQ%3D%3D?line=45'>46</a>\u001b[0m mytransactions\u001b[39m.\u001b[39;49mstoreTransaction(\u001b[39m\"\u001b[39;49m\u001b[39mexpense\u001b[39;49m\u001b[39m\"\u001b[39;49m,\u001b[39m\"\u001b[39;49m\u001b[39mElectricity Bill\u001b[39;49m\u001b[39m\"\u001b[39;49m,\u001b[39m4500\u001b[39;49m,\u001b[39m\"\u001b[39;49m\u001b[39mMHDC\u001b[39;49m\u001b[39m\"\u001b[39;49m,\u001b[39m\"\u001b[39;49m\u001b[39m20/09/2023\u001b[39;49m\u001b[39m\"\u001b[39;49m)\n\u001b[0;32m     <a href='vscode-notebook-cell:/c%3A/Users/dipad/OneDrive/Desktop/MScDSA-MSC171-23122046-DIPANWITA/class%206.ipynb#W2sZmlsZQ%3D%3D?line=46'>47</a>\u001b[0m mytransactions\u001b[39m.\u001b[39mstoreTransaction(\u001b[39m\"\u001b[39m\u001b[39mincome\u001b[39m\u001b[39m\"\u001b[39m,\u001b[39m\"\u001b[39m\u001b[39mpocket money\u001b[39m\u001b[39m\"\u001b[39m,\u001b[39m800\u001b[39m,\u001b[39m\"\u001b[39m\u001b[39mMDHC\u001b[39m\u001b[39m\"\u001b[39m,\u001b[39m\"\u001b[39m\u001b[39m20/09/2023\u001b[39m\u001b[39m\"\u001b[39m)\n\u001b[0;32m     <a href='vscode-notebook-cell:/c%3A/Users/dipad/OneDrive/Desktop/MScDSA-MSC171-23122046-DIPANWITA/class%206.ipynb#W2sZmlsZQ%3D%3D?line=47'>48</a>\u001b[0m mytransactions\u001b[39m.\u001b[39mstoreTransaction(\u001b[39m\"\u001b[39m\u001b[39mexpense\u001b[39m\u001b[39m\"\u001b[39m,\u001b[39m\"\u001b[39m\u001b[39mGroceries\u001b[39m\u001b[39m\"\u001b[39m,\u001b[39m5000\u001b[39m,\u001b[39m\"\u001b[39m\u001b[39mfor home\u001b[39m\u001b[39m\"\u001b[39m,\u001b[39m\"\u001b[39m\u001b[39m20/09/2023\u001b[39m\u001b[39m\"\u001b[39m)\n",
      "\u001b[1;32mc:\\Users\\dipad\\OneDrive\\Desktop\\MScDSA-MSC171-23122046-DIPANWITA\\class 6.ipynb Cell 2\u001b[0m line \u001b[0;36m1\n\u001b[0;32m     <a href='vscode-notebook-cell:/c%3A/Users/dipad/OneDrive/Desktop/MScDSA-MSC171-23122046-DIPANWITA/class%206.ipynb#W2sZmlsZQ%3D%3D?line=14'>15</a>\u001b[0m     \u001b[39mself\u001b[39m\u001b[39m.\u001b[39mtransactions[\u001b[39m\"\u001b[39m\u001b[39mexpenses\u001b[39m\u001b[39m\"\u001b[39m]\u001b[39m.\u001b[39mappend(transaction)\n\u001b[0;32m     <a href='vscode-notebook-cell:/c%3A/Users/dipad/OneDrive/Desktop/MScDSA-MSC171-23122046-DIPANWITA/class%206.ipynb#W2sZmlsZQ%3D%3D?line=15'>16</a>\u001b[0m \u001b[39melse\u001b[39;00m:\n\u001b[1;32m---> <a href='vscode-notebook-cell:/c%3A/Users/dipad/OneDrive/Desktop/MScDSA-MSC171-23122046-DIPANWITA/class%206.ipynb#W2sZmlsZQ%3D%3D?line=16'>17</a>\u001b[0m     \u001b[39mself\u001b[39;49m\u001b[39m.\u001b[39;49mtransactions[\u001b[39m\"\u001b[39m\u001b[39mincome\u001b[39m\u001b[39m\"\u001b[39m]\u001b[39m.\u001b[39mappend(transaction)\n\u001b[0;32m     <a href='vscode-notebook-cell:/c%3A/Users/dipad/OneDrive/Desktop/MScDSA-MSC171-23122046-DIPANWITA/class%206.ipynb#W2sZmlsZQ%3D%3D?line=19'>20</a>\u001b[0m \u001b[39mreturn\u001b[39;00m \u001b[39mTrue\u001b[39;00m\n",
      "\u001b[1;31mAttributeError\u001b[0m: 'expenseTracker' object has no attribute 'transactions'"
     ]
    }
   ],
   "source": [
    "class expenseTracker:\n",
    "    def init(self):\n",
    "        \n",
    "        self.transactions={\"income\":[],\n",
    "                \"expenses\":[]}\n",
    "        \n",
    "    def storeTransaction (self,type,category,cost,desc,date):\n",
    "        transaction={\n",
    "            \"Category\":category,\n",
    "            \"cost\":cost,\n",
    "            \"Description\":desc,\n",
    "            \"Date\":date\n",
    "        }\n",
    "        if type ==\"expenses\":\n",
    "            self.transactions[\"expenses\"].append(transaction)\n",
    "        else:\n",
    "            self.transactions[\"income\"].append(transaction)\n",
    "\n",
    "    \n",
    "        return True\n",
    "    def view_transactions(self):\n",
    "        print(\"INCOME\")\n",
    "        for expense in self.transactions['income']:\n",
    "            print(expense)\n",
    "        print(\"EXPENSE\")\n",
    "        for expense in self.transactions['income']:\n",
    "            print(expense)\n",
    "\n",
    "    def total_incomeexpense(self):\n",
    "        total_income=0\n",
    "        total_expense=0\n",
    "        print(\"Total Income\")\n",
    "        for income in self.transactions[\"income\"]:\n",
    "            print(income[\"cost\"])\n",
    "        print(total_income)\n",
    "\n",
    "        print(\"Total Expense\")\n",
    "        total_expense=0\n",
    "        for expenses in self.transactions[\"expenses\"]:\n",
    "            total_income+=expenses[\"cost\"]\n",
    "        print(total_expense)\n",
    "        \n",
    "\n",
    "\n",
    "mytransactions= expenseTracker()\n",
    "mytransactions.storeTransaction(\"expense\",\"Electricity Bill\",4500,\"MHDC\",\"20/09/2023\")\n",
    "mytransactions.storeTransaction(\"income\",\"pocket money\",800,\"MDHC\",\"20/09/2023\")\n",
    "mytransactions.storeTransaction(\"expense\",\"Groceries\",5000,\"for home\",\"20/09/2023\")\n",
    "mytransactions.storeTransaction(\"income\",\"tuition classes\",2500,\"MDHC\",\"20/09/2023\")\n",
    "mytransactions.view_transactions()\n",
    "mytransactions.total_incomeexpense()\n"
   ]
  },
  {
   "cell_type": "code",
   "execution_count": 19,
   "metadata": {},
   "outputs": [
    {
     "name": "stdout",
     "output_type": "stream",
     "text": [
      "INCOME\n",
      "{'Category': 'pocket money', 'cost': 800, 'Description': 'MDHC', 'Date': '20/09/2023'}\n",
      "{'Category': 'tuition classes', 'cost': 2500, 'Description': 'MDHC', 'Date': '20/09/2023'}\n",
      "EXPENSE\n",
      "{'Category': 'Electricity Bill', 'cost': 4500, 'Description': 'MHDC', 'Date': '20/09/2023'}\n",
      "{'Category': 'Groceries', 'cost': 5000, 'Description': 'for home', 'Date': '20/09/2023'}\n",
      "Total Income\n",
      "3300\n",
      "Total Expense\n",
      "9500\n"
     ]
    }
   ],
   "source": [
    "class expenseTracker:\n",
    "    def __init__(self):\n",
    "        self.transactions={\"income\":[],\n",
    "                    \"expenses\":[]}\n",
    "\n",
    "    def storeTransaction(self,type,category,cost,desc,date):\n",
    "        transaction={\n",
    "            \"Category\":category,\n",
    "            \"cost\":cost,\n",
    "            \"Description\":desc,\n",
    "            \"Date\":date\n",
    "        }\n",
    "        if type==\"expense\":\n",
    "            self.transactions[\"expenses\"].append(transaction)\n",
    "        else:\n",
    "            self.transactions[\"income\"].append(transaction)\n",
    "\n",
    "        \n",
    "        return True\n",
    "    def view_transactions(self):\n",
    "        print(\"INCOME\")\n",
    "        for expense in self.transactions['income']:\n",
    "            print(expense)\n",
    "        print(\"EXPENSE\")\n",
    "        for expense in self.transactions['expenses']:\n",
    "            print(expense)\n",
    "\n",
    "    def total_incomeexpense(self):\n",
    "        total_income=0\n",
    "        total_expense=0\n",
    "        print(\"Total Income\")\n",
    "        for income in self.transactions[\"income\"]:\n",
    "            total_income += income[\"cost\"]\n",
    "        print(total_income)\n",
    "\n",
    "        print(\"Total Expense\")\n",
    "        total_expense=0\n",
    "        for expenses in self.transactions[\"expenses\"]:\n",
    "            total_expense+=expenses[\"cost\"]\n",
    "        print(total_expense)\n",
    "        \n",
    "\n",
    "\n",
    "mytransactions= expenseTracker()\n",
    "mytransactions.storeTransaction(\"expense\",\"Electricity Bill\",4500,\"MHDC\",\"20/09/2023\")\n",
    "mytransactions.storeTransaction(\"income\",\"pocket money\",800,\"MDHC\",\"20/09/2023\")\n",
    "mytransactions.storeTransaction(\"expense\",\"Groceries\",5000,\"for home\",\"20/09/2023\")\n",
    "mytransactions.storeTransaction(\"income\",\"tuition classes\",2500,\"MDHC\",\"20/09/2023\")\n",
    "mytransactions.view_transactions()\n",
    "mytransactions.total_incomeexpense()\n"
   ]
  },
  {
   "cell_type": "code",
   "execution_count": null,
   "metadata": {},
   "outputs": [],
   "source": [
    "#lab 09\n",
    "#using the expenseTracker class continue with the task\n",
    "#create a csv file for Expense/Income\n",
    "#load the csv file and populate the dictionary of the expenseTracker\n",
    "#find the total expense and income\n",
    "#additional task\n",
    "#using the concept of menu driven program\n",
    "#show the menu options to add new transaction[expense/income]\n",
    "#export the updated dictionary to the file"
   ]
  },
  {
   "cell_type": "code",
   "execution_count": null,
   "metadata": {},
   "outputs": [],
   "source": [
    "import csv\n",
    "filename = \"expense.csv\"\n",
    "with open (filename, 'r') as csv\n",
    "\n"
   ]
  }
 ],
 "metadata": {
  "kernelspec": {
   "display_name": "Python 3",
   "language": "python",
   "name": "python3"
  },
  "language_info": {
   "codemirror_mode": {
    "name": "ipython",
    "version": 3
   },
   "file_extension": ".py",
   "mimetype": "text/x-python",
   "name": "python",
   "nbconvert_exporter": "python",
   "pygments_lexer": "ipython3",
   "version": "3.11.5"
  },
  "orig_nbformat": 4
 },
 "nbformat": 4,
 "nbformat_minor": 2
}
