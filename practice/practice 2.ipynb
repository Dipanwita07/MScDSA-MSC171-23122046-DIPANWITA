{
 "cells": [
  {
   "cell_type": "code",
   "execution_count": 1,
   "metadata": {},
   "outputs": [
    {
     "name": "stdout",
     "output_type": "stream",
     "text": [
      "apple\n"
     ]
    }
   ],
   "source": [
    "thisList = [\"apple\", \"banana\", \"cherry\"]\n",
    "print(thisList[0])"
   ]
  },
  {
   "cell_type": "code",
   "execution_count": 2,
   "metadata": {},
   "outputs": [
    {
     "name": "stdout",
     "output_type": "stream",
     "text": [
      "cherry\n"
     ]
    }
   ],
   "source": [
    "thislist = [\"apple\", \"banana\", \"cherry\"] #-1 refers to the last item\n",
    "print(thislist[-1])"
   ]
  },
  {
   "cell_type": "code",
   "execution_count": 3,
   "metadata": {},
   "outputs": [
    {
     "name": "stdout",
     "output_type": "stream",
     "text": [
      "['cherry', 'orange']\n"
     ]
    }
   ],
   "source": [
    "thislist = [\"apple\", \"banana\", \"cherry\", \"orange\", \"kiwi\", \"melon\", \"mango\"] #item 4 is not included\n",
    "print(thislist[2:4])\n"
   ]
  },
  {
   "cell_type": "code",
   "execution_count": 4,
   "metadata": {},
   "outputs": [
    {
     "name": "stdout",
     "output_type": "stream",
     "text": [
      "['apple', 'banana', 'cherry', 'orange']\n"
     ]
    }
   ],
   "source": [
    "thislist = [\"apple\", \"banana\", \"cherry\", \"orange\", \"kiwi\", \"melon\", \"mango\"]\n",
    "print(thislist[:4])  #0th to 3rd"
   ]
  },
  {
   "cell_type": "code",
   "execution_count": 5,
   "metadata": {},
   "outputs": [
    {
     "name": "stdout",
     "output_type": "stream",
     "text": [
      "['apple', 'blackcurrant', 'watermelon', 'orange', 'kiwi', 'mango']\n"
     ]
    }
   ],
   "source": [
    "thislist = [\"apple\", \"banana\", \"cherry\", \"orange\", \"kiwi\", \"mango\"] #changing the items\n",
    "thislist[1:3] = [\"blackcurrant\", \"watermelon\"]\n",
    "print(thislist)"
   ]
  },
  {
   "cell_type": "code",
   "execution_count": 6,
   "metadata": {},
   "outputs": [
    {
     "name": "stdout",
     "output_type": "stream",
     "text": [
      "['apple', 'watermelon', 'cherry']\n"
     ]
    }
   ],
   "source": [
    "thislist = [\"apple\", \"banana\", \"cherry\"]\n",
    "thislist[1:2] = [\"watermelon\"]\n",
    "print(thislist)"
   ]
  },
  {
   "cell_type": "code",
   "execution_count": 7,
   "metadata": {},
   "outputs": [
    {
     "name": "stdout",
     "output_type": "stream",
     "text": [
      "['apple', 'watermelon', 'banana', 'cherry']\n"
     ]
    }
   ],
   "source": [
    "thislist = [\"apple\", \"banana\", \"cherry\"] #adding one item in the 2nd place\n",
    "thislist.insert(1, \"watermelon\")\n",
    "print(thislist)"
   ]
  },
  {
   "cell_type": "code",
   "execution_count": 8,
   "metadata": {},
   "outputs": [
    {
     "name": "stdout",
     "output_type": "stream",
     "text": [
      "['apple', 'banana', 'cherry', 'orange']\n"
     ]
    }
   ],
   "source": [
    "thislist = [\"apple\", \"banana\", \"cherry\"] #adding items in the list\n",
    "thislist.append(\"orange\")\n",
    "print(thislist)"
   ]
  },
  {
   "cell_type": "code",
   "execution_count": 9,
   "metadata": {},
   "outputs": [
    {
     "name": "stdout",
     "output_type": "stream",
     "text": [
      "['apple', 'cherry']\n"
     ]
    }
   ],
   "source": [
    "thislist = [\"apple\", \"banana\", \"cherry\"] #to remove an item from the list\n",
    "thislist.remove(\"banana\")\n",
    "print(thislist)"
   ]
  },
  {
   "cell_type": "code",
   "execution_count": 10,
   "metadata": {},
   "outputs": [
    {
     "name": "stdout",
     "output_type": "stream",
     "text": [
      "['apple', 'cherry']\n"
     ]
    }
   ],
   "source": [
    "thislist = [\"apple\", \"banana\", \"cherry\"] #remove 2nd item from the list\n",
    "thislist.pop(1)\n",
    "print(thislist)"
   ]
  },
  {
   "cell_type": "code",
   "execution_count": 11,
   "metadata": {},
   "outputs": [
    {
     "name": "stdout",
     "output_type": "stream",
     "text": [
      "['apple', 'banana']\n"
     ]
    }
   ],
   "source": [
    "thislist = [\"apple\", \"banana\", \"cherry\"] #remove last item\n",
    "thislist.pop()\n",
    "print(thislist)"
   ]
  },
  {
   "cell_type": "code",
   "execution_count": 12,
   "metadata": {},
   "outputs": [
    {
     "name": "stdout",
     "output_type": "stream",
     "text": [
      "['banana', 'cherry']\n"
     ]
    }
   ],
   "source": [
    "thislist = [\"apple\", \"banana\", \"cherry\"] #delete the first item\n",
    "del thislist[0]\n",
    "print(thislist)"
   ]
  },
  {
   "cell_type": "code",
   "execution_count": 13,
   "metadata": {},
   "outputs": [
    {
     "name": "stdout",
     "output_type": "stream",
     "text": [
      "[]\n"
     ]
    }
   ],
   "source": [
    "thislist = [\"apple\", \"banana\", \"cherry\"] #delete the items from the list\n",
    "thislist.clear()\n",
    "print(thislist)"
   ]
  },
  {
   "cell_type": "code",
   "execution_count": 14,
   "metadata": {},
   "outputs": [
    {
     "name": "stdout",
     "output_type": "stream",
     "text": [
      "apple\n",
      "banana\n",
      "cherry\n"
     ]
    }
   ],
   "source": [
    "thislist = [\"apple\", \"banana\", \"cherry\"]\n",
    "for x in thislist:\n",
    " print(x)"
   ]
  },
  {
   "cell_type": "code",
   "execution_count": 15,
   "metadata": {},
   "outputs": [
    {
     "name": "stdout",
     "output_type": "stream",
     "text": [
      "b\n",
      "a\n",
      "n\n",
      "a\n",
      "n\n",
      "a\n"
     ]
    }
   ],
   "source": [
    "for x in \"banana\":\n",
    "  print(x)"
   ]
  },
  {
   "cell_type": "code",
   "execution_count": 16,
   "metadata": {},
   "outputs": [
    {
     "name": "stdout",
     "output_type": "stream",
     "text": [
      "apple\n",
      "banana\n"
     ]
    }
   ],
   "source": [
    "fruits = [\"apple\", \"banana\", \"cherry\"]\n",
    "for x in fruits:\n",
    "  print(x)\n",
    "  if x == \"banana\":\n",
    "    break"
   ]
  },
  {
   "cell_type": "code",
   "execution_count": 17,
   "metadata": {},
   "outputs": [
    {
     "name": "stdout",
     "output_type": "stream",
     "text": [
      "apple\n"
     ]
    }
   ],
   "source": [
    "fruits = [\"apple\", \"banana\", \"cherry\"]\n",
    "for x in fruits:\n",
    "  if x == \"banana\":\n",
    "    break\n",
    "  print(x)"
   ]
  },
  {
   "cell_type": "code",
   "execution_count": 18,
   "metadata": {},
   "outputs": [
    {
     "name": "stdout",
     "output_type": "stream",
     "text": [
      "banana\n",
      "cherry\n"
     ]
    }
   ],
   "source": [
    "fruits = [\"apple\", \"banana\", \"cherry\"]\n",
    "for x in fruits:\n",
    "  if x == \"apple\":\n",
    "    continue\n",
    "  print(x)"
   ]
  },
  {
   "cell_type": "code",
   "execution_count": 19,
   "metadata": {},
   "outputs": [
    {
     "name": "stdout",
     "output_type": "stream",
     "text": [
      "0\n",
      "1\n",
      "2\n",
      "3\n",
      "4\n",
      "5\n"
     ]
    }
   ],
   "source": [
    "for x in range(6):\n",
    "  print(x)"
   ]
  },
  {
   "cell_type": "code",
   "execution_count": 20,
   "metadata": {},
   "outputs": [
    {
     "name": "stdout",
     "output_type": "stream",
     "text": [
      "2\n",
      "5\n",
      "8\n",
      "11\n",
      "14\n",
      "17\n",
      "20\n",
      "23\n",
      "26\n",
      "29\n"
     ]
    }
   ],
   "source": [
    "for x in range(2, 30, 3):\n",
    "  print(x)\n"
   ]
  },
  {
   "cell_type": "code",
   "execution_count": 21,
   "metadata": {},
   "outputs": [
    {
     "name": "stdout",
     "output_type": "stream",
     "text": [
      "0\n",
      "1\n",
      "2\n",
      "3\n",
      "4\n",
      "5\n",
      "Finally finished!\n"
     ]
    }
   ],
   "source": [
    "for x in range(6):\n",
    "  print(x)\n",
    "else:\n",
    "  print(\"Finally finished!\")"
   ]
  },
  {
   "cell_type": "code",
   "execution_count": 22,
   "metadata": {},
   "outputs": [
    {
     "name": "stdout",
     "output_type": "stream",
     "text": [
      "red apple\n",
      "red banana\n",
      "red cherry\n",
      "big apple\n",
      "big banana\n",
      "big cherry\n",
      "tasty apple\n",
      "tasty banana\n",
      "tasty cherry\n"
     ]
    }
   ],
   "source": [
    "adj = [\"red\", \"big\", \"tasty\"]\n",
    "fruits = [\"apple\", \"banana\", \"cherry\"]\n",
    "\n",
    "for x in adj:\n",
    "  for y in fruits:\n",
    "    print(x, y)"
   ]
  },
  {
   "cell_type": "code",
   "execution_count": 23,
   "metadata": {},
   "outputs": [
    {
     "data": {
      "text/plain": [
       "7"
      ]
     },
     "execution_count": 23,
     "metadata": {},
     "output_type": "execute_result"
    }
   ],
   "source": [
    "5+2\n"
   ]
  },
  {
   "cell_type": "code",
   "execution_count": 24,
   "metadata": {},
   "outputs": [
    {
     "name": "stdout",
     "output_type": "stream",
     "text": [
      "4\n"
     ]
    }
   ],
   "source": [
    "def max(a,b):\n",
    "    if a>=b:\n",
    "        return a\n",
    "    else: \n",
    "        return b\n",
    "a=2\n",
    "b=4\n",
    "print(max(a,b))"
   ]
  },
  {
   "cell_type": "code",
   "execution_count": 25,
   "metadata": {},
   "outputs": [
    {
     "name": "stdout",
     "output_type": "stream",
     "text": [
      "10\n"
     ]
    }
   ],
   "source": [
    "def s(n):\n",
    "    sum =0\n",
    "    for i in range (1,n+1):\n",
    "        sum = sum +(i)\n",
    "    return sum\n",
    "n=4\n",
    "print(s(n))\n"
   ]
  },
  {
   "cell_type": "code",
   "execution_count": 26,
   "metadata": {},
   "outputs": [
    {
     "name": "stdout",
     "output_type": "stream",
     "text": [
      "London\n"
     ]
    }
   ],
   "source": [
    "country_capitals ={\n",
    "    \"United States\" : \"Washington\",\n",
    "    \"Italy\" : \"Rome\",\n",
    "    \"England\": \"London\"\n",
    "}\n",
    "print(country_capitals[\"England\"])"
   ]
  },
  {
   "cell_type": "code",
   "execution_count": 27,
   "metadata": {},
   "outputs": [
    {
     "name": "stdout",
     "output_type": "stream",
     "text": [
      "{'United States': 'Washington', 'England': 'London'}\n"
     ]
    }
   ],
   "source": [
    "country_capitals ={\n",
    "    \"United States\" : \"Washington\",\n",
    "    \"Italy\" : \"Rome\",\n",
    "    \"England\": \"London\"\n",
    "}\n",
    "del country_capitals[\"Italy\"]\n",
    "print(country_capitals)"
   ]
  },
  {
   "cell_type": "code",
   "execution_count": 28,
   "metadata": {},
   "outputs": [
    {
     "name": "stdout",
     "output_type": "stream",
     "text": [
      "{}\n"
     ]
    }
   ],
   "source": [
    "country_capitals ={\n",
    "    \"United States\" : \"Washington\",\n",
    "    \"Italy\" : \"Rome\",\n",
    "    \"England\": \"London\"\n",
    "}\n",
    "country_capitals.clear()\n",
    "print(country_capitals)"
   ]
  },
  {
   "cell_type": "code",
   "execution_count": 29,
   "metadata": {},
   "outputs": [
    {
     "name": "stdout",
     "output_type": "stream",
     "text": [
      "Washington\n",
      "Rome\n",
      "London\n"
     ]
    }
   ],
   "source": [
    "country_capitals ={\n",
    "    \"United States\" : \"Washington\",\n",
    "    \"Italy\" : \"Rome\",\n",
    "    \"England\": \"London\"\n",
    "}\n",
    "for country in country_capitals:\n",
    "    capital = country_capitals[country]\n",
    "    print(capital)"
   ]
  },
  {
   "cell_type": "code",
   "execution_count": 30,
   "metadata": {},
   "outputs": [
    {
     "name": "stdout",
     "output_type": "stream",
     "text": [
      "United States\n",
      "Italy\n",
      "England\n"
     ]
    }
   ],
   "source": [
    "country_capitals ={\n",
    "    \"United States\" : \"Washington\",\n",
    "    \"Italy\" : \"Rome\",\n",
    "    \"England\": \"London\"\n",
    "}\n",
    "for country in country_capitals:\n",
    "    \n",
    "    print(country)"
   ]
  },
  {
   "cell_type": "code",
   "execution_count": 31,
   "metadata": {},
   "outputs": [],
   "source": [
    "class student:\n",
    "    def __init__(self,name,marks,roll_no):   #define the variables\n",
    "        self.name = name\n",
    "        self.marks = marks\n",
    "        self.roll_no = roll_no\n",
    "    def displayData(self):\n",
    "        print(\"The name of the students is:\",self.name)\n",
    "        print(\"The marks of the students is:\",self.marks)\n",
    "        print(\"The roll no of the students is:\",self.roll_no)\n",
    "name = input(\"Enter the name of the student is:\")    \n",
    "marks =int( input (\"Enter the marks of the student:\")   )\n",
    "roll_no = int(input(\"Enter the roll no of the student:\"))\n",
    "s1 = student(name,marks,roll_no)\n",
    "s1.displayData()\n",
    "        \n",
    "        \n",
    "    \n",
    "        "
   ]
  },
  {
   "cell_type": "code",
   "execution_count": null,
   "metadata": {},
   "outputs": [
    {
     "name": "stdout",
     "output_type": "stream",
     "text": [
      "Enter the name of the employee: ggg\n",
      "Enter the job of the employee: hhihi\n",
      "Enter the salary of the employee: 78768\n"
     ]
    }
   ],
   "source": [
    "class employees:\n",
    "    def __init__(self,name,job,salary):\n",
    "        self.name=name\n",
    "        self.job = job\n",
    "        self.salary = salary\n",
    "    def displayData(self):\n",
    "        print(\"Enter the name of the employee:\",self.name)\n",
    "        print(\"Enter the job of the employee:\",self.job)\n",
    "        print(\"Enter the salary of the employee:\",self.salary)\n",
    "name = input(\"Enter the name of the employee:\")\n",
    "job = input(\"Enter the job of the employee:\")\n",
    "salary = int(input(\"Enter the salary of the employee:\"))\n",
    "s1= employees(name,job,salary)\n",
    "s1.displayData()\n",
    "    \n",
    "         \n",
    "        "
   ]
  },
  {
   "cell_type": "code",
   "execution_count": null,
   "metadata": {},
   "outputs": [
    {
     "name": "stdout",
     "output_type": "stream",
     "text": [
      "/n Student Management System\n",
      "1. Add Student\n",
      "2. Delete Student\n",
      "3. List students\n",
      "4.  Quit\n",
      "No students in the list\n",
      "/n Student Management System\n",
      "1. Add Student\n",
      "2. Delete Student\n",
      "3. List students\n",
      "4.  Quit\n",
      "Student added successfully!\n",
      "/n Student Management System\n",
      "1. Add Student\n",
      "2. Delete Student\n",
      "3. List students\n",
      "4.  Quit\n",
      "Student added successfully!\n",
      "/n Student Management System\n",
      "1. Add Student\n",
      "2. Delete Student\n",
      "3. List students\n",
      "4.  Quit\n",
      "student with Roll Number 777 not found\n",
      "/n Student Management System\n",
      "1. Add Student\n",
      "2. Delete Student\n",
      "3. List students\n",
      "4.  Quit\n"
     ]
    }
   ],
   "source": [
    "class Student:\n",
    "    def __init__(self,roll_no,name,age):\n",
    "        self.roll_no = roll_no\n",
    "        self.name = name\n",
    "        self.age = age\n",
    "    def __str__(self):\n",
    "            return f\"Roll Number:{self.roll_no},Name : {self.name}, Age: {self.age}\"\n",
    "students = []\n",
    "def add_student():\n",
    "        roll_no = input(\"Enter the roll no of the student:\")\n",
    "        name = input(\"Enter the name of the student: \")\n",
    "        age = input(\"Enter the age of the student:\")\n",
    "        student = Student (roll_no,name,age)\n",
    "        students.append(student)\n",
    "        print(\"Student added successfully!\")\n",
    "def delete_student(roll_no):\n",
    "    for student in students:\n",
    "        if student.roll_no == roll_no:\n",
    "            students.remove(student)\n",
    "            print(f\"student with Roll Number {roll_no} not found\")\n",
    "while True:\n",
    "    print(\"/n Student Management System\")\n",
    "    print(\"1. Add Student\")\n",
    "    print(\"2. Delete Student\")\n",
    "    print(\"3. List students\")\n",
    "    print(\"4.  Quit\")\n",
    "    choice = input(\"Enter your choice:\")\n",
    "    if choice ==\"1\":\n",
    "        add_student()\n",
    "    elif choice == \"2\":\n",
    "        roll_no = input(\"Enter the roll number of the student to delete:\")\n",
    "        delete_student(roll_no)\n",
    "    elif choice == \"3\":\n",
    "        if students:\n",
    "            print(\"/nList of Students:\")\n",
    "            for student in students:\n",
    "                print(student)\n",
    "        else:\n",
    "            print(\"No students in the list\")\n",
    "    elif choice == \"4\":\n",
    "        break\n",
    "    else:\n",
    "        print(\"Invalid choice\")\n",
    "        \n",
    "    "
   ]
  },
  {
   "cell_type": "code",
   "execution_count": null,
   "metadata": {},
   "outputs": [],
   "source": []
  },
  {
   "cell_type": "code",
   "execution_count": null,
   "metadata": {},
   "outputs": [
    {
     "name": "stdout",
     "output_type": "stream",
     "text": [
      "/n Student Management System\n",
      "1. Add Student\n",
      "2. Delete Student\n",
      "3. List students\n",
      "4.  Quit\n",
      "Student added successfully!\n",
      "/n Student Management System\n",
      "1. Add Student\n",
      "2. Delete Student\n",
      "3. List students\n",
      "4.  Quit\n",
      "/nList of Students:\n",
      "Roll Number:45,Name : ciya, Age: 15\n",
      "/n Student Management System\n",
      "1. Add Student\n",
      "2. Delete Student\n",
      "3. List students\n",
      "4.  Quit\n",
      "student with roll number45 deleted succesfully\n",
      "/n Student Management System\n",
      "1. Add Student\n",
      "2. Delete Student\n",
      "3. List students\n",
      "4.  Quit\n"
     ]
    }
   ],
   "source": [
    "#adding and deleting details\n",
    "class Student:   \n",
    "    def __init__(self,roll_no,name,age):\n",
    "        self.roll_no = roll_no\n",
    "        self.name = name\n",
    "        self.age = age\n",
    "    def __str__(self):\n",
    "            return f\"Roll Number:{self.roll_no},Name : {self.name}, Age: {self.age}\"\n",
    "students = []\n",
    "def add_student():\n",
    "        roll_no = input(\"Enter the roll no of the student:\")\n",
    "        name = input(\"Enter the name of the student: \")\n",
    "        age = input(\"Enter the age of the student:\")\n",
    "        student = Student (roll_no,name,age)\n",
    "        students.append(student)\n",
    "        print(\"Student added successfully!\")\n",
    "def delete_student(roll_no):\n",
    "    for student in students:\n",
    "        if student.roll_no==roll_no:\n",
    "            students.remove(student)\n",
    "            print(f\"student with roll number{roll_no} deleted succesfully\")\n",
    "            return\n",
    "    print(f\"student with Roll Number {roll_no} not found\")\n",
    "    \n",
    "while True:\n",
    "    print(\"/n Student Management System\")\n",
    "    print(\"1. Add Student\")\n",
    "    print(\"2. Delete Student\")\n",
    "    print(\"3. List students\")\n",
    "    print(\"4.  Quit\")\n",
    "    choice = input(\"Enter your choice:\")\n",
    "    if choice ==\"1\":\n",
    "        add_student()\n",
    "    elif choice == \"2\":\n",
    "        roll_no = input(\"Enter the roll number of the student to delete:\")\n",
    "        delete_student(roll_no)\n",
    "    elif choice == \"3\":\n",
    "        if students:\n",
    "            print(\"/nList of Students:\")\n",
    "            for student in students:\n",
    "                print(student)\n",
    "        else:\n",
    "            print(\"No students in the list\")\n",
    "    elif choice == \"4\":\n",
    "        break\n",
    "    else:\n",
    "        print(\"Invalid choice\")\n",
    "        \n",
    "    "
   ]
  },
  {
   "cell_type": "code",
   "execution_count": 2,
   "metadata": {},
   "outputs": [
    {
     "name": "stdout",
     "output_type": "stream",
     "text": [
      "Menu Driven Program\n",
      "1.Area of Circle\n",
      "2.Area of rectangle\n",
      "3.Area of square\n",
      "4.Exit\n",
      "Wrong choice\n",
      "Menu Driven Program\n",
      "1.Area of Circle\n",
      "2.Area of rectangle\n",
      "3.Area of square\n",
      "4.Exit\n"
     ]
    },
    {
     "ename": "",
     "evalue": "",
     "output_type": "error",
     "traceback": [
      "\u001b[1;31mThe Kernel crashed while executing code in the the current cell or a previous cell. Please review the code in the cell(s) to identify a possible cause of the failure. Click <a href='https://aka.ms/vscodeJupyterKernelCrash'>here</a> for more info. View Jupyter <a href='command:jupyter.viewOutput'>log</a> for further details."
     ]
    }
   ],
   "source": [
    "while True:\n",
    "    print(\"Menu Driven Program\")\n",
    "    print(\"1.Area of Circle\")\n",
    "    print(\"2.Area of rectangle\")\n",
    "    print(\"3.Area of square\")\n",
    "    print(\"4.Exit\")\n",
    "    choice =int(input(\"Enter your choice:\"))\n",
    "    if choice == 1:\n",
    "        radius = int(input(\"Enter radius of circle:\"))\n",
    "        print(\"Area of circle\",3.14*radius*radius)\n",
    "    if choice ==2:\n",
    "        length = int(input(\"Enter length of Rectangle:\"))\n",
    "        breadth = int(input(\"Enter breadth of Rectangle\"))\n",
    "        print(\"Area of rectangle\", length*breadth)\n",
    "    if choice == 3:\n",
    "        side = int(input(\"Enter side of a square:\"))\n",
    "        print(\"Area of square\",side*side)\n",
    "    elif choice == 4:\n",
    "        break\n",
    "    elif choice>=5:\n",
    "        print(\"Wrong choice\")\n",
    "        exit()\n",
    "# /    else:\n",
    "#         print(\"Please enter the correct choice\")\n",
    "    "
   ]
  },
  {
   "cell_type": "code",
   "execution_count": 2,
   "metadata": {},
   "outputs": [
    {
     "name": "stdout",
     "output_type": "stream",
     "text": [
      "Fibonacci sequence upto 1 :\n",
      "0\n"
     ]
    }
   ],
   "source": [
    "nterms = int(input(\"How many terms? \"))\n",
    "\n",
    "# first two terms\n",
    "n1, n2 = 0, 1\n",
    "count = 0\n",
    "\n",
    "# check if the number of terms is valid\n",
    "if nterms <= 0:\n",
    "   print(\"Please enter a positive integer\")\n",
    "# if there is only one term, return n1\n",
    "elif nterms == 1:\n",
    "   print(\"Fibonacci sequence upto\",nterms,\":\")\n",
    "   print(n1)\n",
    "# generate fibonacci sequence\n",
    "else:\n",
    "   print(\"Fibonacci sequence:\")\n",
    "   while count < nterms:\n",
    "       print(n1)\n",
    "       nth = n1 + n2\n",
    "       # update values\n",
    "       n1 = n2\n",
    "       n2 = nth\n",
    "       count += 1"
   ]
  },
  {
   "cell_type": "code",
   "execution_count": 4,
   "metadata": {},
   "outputs": [],
   "source": [
    "num=1634\n",
    "order = len(str(num))"
   ]
  },
  {
   "cell_type": "code",
   "execution_count": 1,
   "metadata": {},
   "outputs": [
    {
     "ename": "NameError",
     "evalue": "name '_name_' is not defined",
     "output_type": "error",
     "traceback": [
      "\u001b[1;31m---------------------------------------------------------------------------\u001b[0m",
      "\u001b[1;31mNameError\u001b[0m                                 Traceback (most recent call last)",
      "\u001b[1;32mc:\\Users\\dipad\\OneDrive\\Desktop\\MScDSA-MSC171-23122046-DIPANWITA\\practice 2.ipynb Cell 39\u001b[0m line \u001b[0;36m3\n\u001b[0;32m     <a href='vscode-notebook-cell:/c%3A/Users/dipad/OneDrive/Desktop/MScDSA-MSC171-23122046-DIPANWITA/practice%202.ipynb#X53sZmlsZQ%3D%3D?line=26'>27</a>\u001b[0m     \u001b[39mdef\u001b[39;00m \u001b[39mlist_all_pets\u001b[39m(\u001b[39mself\u001b[39m):\n\u001b[0;32m     <a href='vscode-notebook-cell:/c%3A/Users/dipad/OneDrive/Desktop/MScDSA-MSC171-23122046-DIPANWITA/practice%202.ipynb#X53sZmlsZQ%3D%3D?line=27'>28</a>\u001b[0m         \u001b[39mreturn\u001b[39;00m \u001b[39mself\u001b[39m\u001b[39m.\u001b[39mpets\n\u001b[1;32m---> <a href='vscode-notebook-cell:/c%3A/Users/dipad/OneDrive/Desktop/MScDSA-MSC171-23122046-DIPANWITA/practice%202.ipynb#X53sZmlsZQ%3D%3D?line=29'>30</a>\u001b[0m \u001b[39mif\u001b[39;00m _name_ \u001b[39m==\u001b[39m \u001b[39m\"\u001b[39m\u001b[39m_main_\u001b[39m\u001b[39m\"\u001b[39m:\n\u001b[0;32m     <a href='vscode-notebook-cell:/c%3A/Users/dipad/OneDrive/Desktop/MScDSA-MSC171-23122046-DIPANWITA/practice%202.ipynb#X53sZmlsZQ%3D%3D?line=30'>31</a>\u001b[0m     pet_store \u001b[39m=\u001b[39m PetStore()\n\u001b[0;32m     <a href='vscode-notebook-cell:/c%3A/Users/dipad/OneDrive/Desktop/MScDSA-MSC171-23122046-DIPANWITA/practice%202.ipynb#X53sZmlsZQ%3D%3D?line=32'>33</a>\u001b[0m     \u001b[39mwhile\u001b[39;00m \u001b[39mTrue\u001b[39;00m:\n",
      "\u001b[1;31mNameError\u001b[0m: name '_name_' is not defined"
     ]
    }
   ],
   "source": [
    "class PetStore:\n",
    "    def _init_(self):\n",
    "        self.pets = []\n",
    "\n",
    "    def store_pet_details(self, pet_name, pet_type, pet_price):\n",
    "        pet = {\n",
    "            \"Name\": pet_name,\n",
    "            \"Type\": pet_type,\n",
    "            \"Price\": pet_price\n",
    "        }\n",
    "        self.pets.append(pet)\n",
    "\n",
    "    def search_for_pet(self, pet_name):\n",
    "        for pet in self.pets:\n",
    "            if pet[\"Name\"] == pet_name:\n",
    "                return pet\n",
    "        return None\n",
    "\n",
    "    def sell_pet(self, pet_name):\n",
    "        pet = self.search_for_pet(pet_name)\n",
    "        if pet:\n",
    "            self.pets.remove(pet)\n",
    "            return pet\n",
    "        else:\n",
    "            return None\n",
    "\n",
    "    def list_all_pets(self):\n",
    "        return self.pets\n",
    "\n",
    "if _name_ == \"_main_\":\n",
    "    pet_store = PetStore()\n",
    "\n",
    "    while True:\n",
    "        print(\"\\nPet Store Menu:\")\n",
    "        print(\"1. Add a new pet\")\n",
    "        print(\"2. Search for a pet\")\n",
    "        print(\"3. Sell a pet\")\n",
    "        print(\"4. List all pets\")\n",
    "        print(\"5. Exit\")\n",
    "\n",
    "        choice = input(\"Enter your choice: \")\n",
    "\n",
    "        if choice == \"1\":\n",
    "            pet_name = input(\"Enter pet name: \")\n",
    "            pet_type = input(\"Enter pet type: \")\n",
    "            pet_price = float(input(\"Enter pet price: \"))\n",
    "            pet_store.store_pet_details(pet_name, pet_type, pet_price)\n",
    "            print(f\"{pet_name} has been added to the store.\")\n",
    "\n",
    "        elif choice == \"2\":\n",
    "            pet_name = input(\"Enter the name of the pet to search: \")\n",
    "            pet = pet_store.search_for_pet(pet_name)\n",
    "            if pet:\n",
    "                print(f\"Pet found: {pet['Name']} ({pet['Type']}) - Price: ${pet['Price']}\")\n",
    "            else:\n",
    "                print(\"Pet not found in the store.\")\n",
    "\n",
    "        elif choice == \"3\":\n",
    "            pet_name = input(\"Enter the name of the pet to sell: \")\n",
    "            sold_pet = pet_store.sell_pet(pet_name)\n",
    "            if sold_pet:\n",
    "                print(f\"{sold_pet['Name']} has been sold for ${sold_pet['Price']}\")\n",
    "            else:\n",
    "                print(\"Pet not found in the store.\")\n",
    "\n",
    "        elif choice == \"4\":\n",
    "            pets = pet_store.list_all_pets()\n",
    "            if pets:\n",
    "                print(\"List of all pets in the store:\")\n",
    "                for pet in pets:\n",
    "                    print(f\"{pet['Name']} ({pet['Type']}) - Price: ${pet['Price']}\")\n",
    "            else:\n",
    "                print(\"No pets available in the store.\")\n",
    "\n",
    "        elif choice == \"5\":\n",
    "            print(\"Exiting the Pet Store. Goodbye!\")\n",
    "            break\n",
    "\n",
    "        else:\n",
    "            print(\"Invalid choice. Please choose a valid option.\")\n"
   ]
  },
  {
   "cell_type": "code",
   "execution_count": 2,
   "metadata": {},
   "outputs": [
    {
     "name": "stdout",
     "output_type": "stream",
     "text": [
      "\n",
      "Pet Store Menu:\n",
      "1. Add a new pet\n",
      "2. Search for a pet\n",
      "3. Sell a pet\n",
      "4. List all pets\n",
      "5. Exit\n",
      "Pet not found in the store.\n",
      "\n",
      "Pet Store Menu:\n",
      "1. Add a new pet\n",
      "2. Search for a pet\n",
      "3. Sell a pet\n",
      "4. List all pets\n",
      "5. Exit\n",
      "No pets available in the store.\n",
      "\n",
      "Pet Store Menu:\n",
      "1. Add a new pet\n",
      "2. Search for a pet\n",
      "3. Sell a pet\n",
      "4. List all pets\n",
      "5. Exit\n",
      "Exiting the Pet Store. Goodbye!\n"
     ]
    }
   ],
   "source": [
    "class PetStore:\n",
    "    def __init__(self):\n",
    "        self.pets = []\n",
    "\n",
    "    def store_pet_details(self, pet_name, pet_type, pet_price):\n",
    "        pet = {\n",
    "            \"Name\": pet_name,\n",
    "            \"Type\": pet_type,\n",
    "            \"Price\": pet_price\n",
    "        }\n",
    "        self.pets.append(pet)\n",
    "\n",
    "    def search_for_pet(self, pet_name):\n",
    "        for pet in self.pets:\n",
    "            if pet[\"Name\"] == pet_name:\n",
    "                return pet\n",
    "        return None\n",
    "\n",
    "    def sell_pet(self, pet_name):\n",
    "        pet = self.search_for_pet(pet_name)\n",
    "        if pet:\n",
    "            self.pets.remove(pet)\n",
    "            return pet\n",
    "        else:\n",
    "            return None\n",
    "\n",
    "    def list_all_pets(self):\n",
    "        return self.pets\n",
    "\n",
    "\n",
    "if __name__ == \"__main__\":\n",
    "    pet_store = PetStore()\n",
    "\n",
    "    while True:\n",
    "        print(\"\\nPet Store Menu:\")\n",
    "        print(\"1. Add a new pet\")\n",
    "        print(\"2. Search for a pet\")\n",
    "        print(\"3. Sell a pet\")\n",
    "        print(\"4. List all pets\")\n",
    "        print(\"5. Exit\")\n",
    "\n",
    "        choice = input(\"Enter your choice: \")\n",
    "\n",
    "        if choice == \"1\":\n",
    "            pet_name = input(\"Enter pet name: \")\n",
    "            pet_type = input(\"Enter pet type: \")\n",
    "            pet_price = float(input(\"Enter pet price: \"))\n",
    "            pet_store.store_pet_details(pet_name, pet_type, pet_price)\n",
    "            print(f\"{pet_name} has been added to the store.\")\n",
    "            continue\n",
    "\n",
    "        elif choice == \"2\":\n",
    "            pet_name = input(\"Enter the name of the pet to search: \")\n",
    "            pet = pet_store.search_for_pet(pet_name)\n",
    "            if pet:\n",
    "                print(f\"Pet found: {pet['Name']} ({pet['Type']}) - Price: ${pet['Price']}\")\n",
    "            else:\n",
    "                print(\"Pet not found in the store.\")\n",
    "            continue\n",
    "\n",
    "        elif choice == \"3\":\n",
    "            pet_name = input(\"Enter the name of the pet to sell: \")\n",
    "            sold_pet = pet_store.sell_pet(pet_name)\n",
    "            if sold_pet:\n",
    "                print(f\"{sold_pet['Name']} has been sold for ${sold_pet['Price']}\")\n",
    "            else:\n",
    "                print(\"Pet not found in the store.\")\n",
    "            continue\n",
    "\n",
    "        elif choice == \"4\":\n",
    "            pets = pet_store.list_all_pets()\n",
    "            if pets:\n",
    "                print(\"List of all pets in the store:\")\n",
    "                for pet in pets:\n",
    "                    print(f\"{pet['Name']} ({pet['Type']}) - Price: ${pet['Price']}\")\n",
    "            else:\n",
    "                print(\"No pets available in the store.\")\n",
    "            continue\n",
    "\n",
    "        elif choice == \"5\":\n",
    "            print(\"Exiting the Pet Store. Goodbye!\")\n",
    "            break\n",
    "\n",
    "        else:\n",
    "            print(\"Invalid choice. Please choose a valid option.\")\n",
    "            continue\n"
   ]
  }
 ],
 "metadata": {
  "kernelspec": {
   "display_name": "Python 3",
   "language": "python",
   "name": "python3"
  },
  "language_info": {
   "codemirror_mode": {
    "name": "ipython",
    "version": 3
   },
   "file_extension": ".py",
   "mimetype": "text/x-python",
   "name": "python",
   "nbconvert_exporter": "python",
   "pygments_lexer": "ipython3",
   "version": "3.11.5"
  },
  "orig_nbformat": 4
 },
 "nbformat": 4,
 "nbformat_minor": 2
}
