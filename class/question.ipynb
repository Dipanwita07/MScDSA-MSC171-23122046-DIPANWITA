{
 "cells": [
  {
   "cell_type": "code",
   "execution_count": 2,
   "metadata": {},
   "outputs": [
    {
     "name": "stdout",
     "output_type": "stream",
     "text": [
      "\n",
      "Pet Store Menu:\n",
      "1. Add a new pet\n",
      "2. Search for a pet\n",
      "3. Sell a pet\n",
      "4. List all pets\n",
      "5. Exit\n"
     ]
    },
    {
     "ename": "AttributeError",
     "evalue": "'PetStore' object has no attribute 'pets'",
     "output_type": "error",
     "traceback": [
      "\u001b[1;31m---------------------------------------------------------------------------\u001b[0m",
      "\u001b[1;31mAttributeError\u001b[0m                            Traceback (most recent call last)",
      "\u001b[1;32mc:\\Users\\dipad\\OneDrive\\Desktop\\python class\\question.ipynb Cell 2\u001b[0m line \u001b[0;36m4\n\u001b[0;32m     <a href='vscode-notebook-cell:/c%3A/Users/dipad/OneDrive/Desktop/python%20class/question.ipynb#W1sZmlsZQ%3D%3D?line=44'>45</a>\u001b[0m     pet_type \u001b[39m=\u001b[39m \u001b[39minput\u001b[39m(\u001b[39m\"\u001b[39m\u001b[39mEnter pet type: \u001b[39m\u001b[39m\"\u001b[39m)\n\u001b[0;32m     <a href='vscode-notebook-cell:/c%3A/Users/dipad/OneDrive/Desktop/python%20class/question.ipynb#W1sZmlsZQ%3D%3D?line=45'>46</a>\u001b[0m     pet_price \u001b[39m=\u001b[39m \u001b[39mfloat\u001b[39m(\u001b[39minput\u001b[39m(\u001b[39m\"\u001b[39m\u001b[39mEnter pet price: \u001b[39m\u001b[39m\"\u001b[39m))\n\u001b[1;32m---> <a href='vscode-notebook-cell:/c%3A/Users/dipad/OneDrive/Desktop/python%20class/question.ipynb#W1sZmlsZQ%3D%3D?line=46'>47</a>\u001b[0m     pet_store\u001b[39m.\u001b[39;49mstore_pet_details(pet_name, pet_type, pet_price)\n\u001b[0;32m     <a href='vscode-notebook-cell:/c%3A/Users/dipad/OneDrive/Desktop/python%20class/question.ipynb#W1sZmlsZQ%3D%3D?line=47'>48</a>\u001b[0m     \u001b[39mprint\u001b[39m(\u001b[39mf\u001b[39m\u001b[39m\"\u001b[39m\u001b[39m{\u001b[39;00mpet_name\u001b[39m}\u001b[39;00m\u001b[39m has been added to the store.\u001b[39m\u001b[39m\"\u001b[39m)\n\u001b[0;32m     <a href='vscode-notebook-cell:/c%3A/Users/dipad/OneDrive/Desktop/python%20class/question.ipynb#W1sZmlsZQ%3D%3D?line=49'>50</a>\u001b[0m \u001b[39melif\u001b[39;00m choice \u001b[39m==\u001b[39m \u001b[39m\"\u001b[39m\u001b[39m2\u001b[39m\u001b[39m\"\u001b[39m:\n",
      "\u001b[1;32mc:\\Users\\dipad\\OneDrive\\Desktop\\python class\\question.ipynb Cell 2\u001b[0m line \u001b[0;36m1\n\u001b[0;32m      <a href='vscode-notebook-cell:/c%3A/Users/dipad/OneDrive/Desktop/python%20class/question.ipynb#W1sZmlsZQ%3D%3D?line=4'>5</a>\u001b[0m \u001b[39mdef\u001b[39;00m \u001b[39mstore_pet_details\u001b[39m(\u001b[39mself\u001b[39m, pet_name, pet_type, pet_price):\n\u001b[0;32m      <a href='vscode-notebook-cell:/c%3A/Users/dipad/OneDrive/Desktop/python%20class/question.ipynb#W1sZmlsZQ%3D%3D?line=5'>6</a>\u001b[0m     pet \u001b[39m=\u001b[39m {\n\u001b[0;32m      <a href='vscode-notebook-cell:/c%3A/Users/dipad/OneDrive/Desktop/python%20class/question.ipynb#W1sZmlsZQ%3D%3D?line=6'>7</a>\u001b[0m         \u001b[39m\"\u001b[39m\u001b[39mName\u001b[39m\u001b[39m\"\u001b[39m: pet_name,\n\u001b[0;32m      <a href='vscode-notebook-cell:/c%3A/Users/dipad/OneDrive/Desktop/python%20class/question.ipynb#W1sZmlsZQ%3D%3D?line=7'>8</a>\u001b[0m         \u001b[39m\"\u001b[39m\u001b[39mType\u001b[39m\u001b[39m\"\u001b[39m: pet_type,\n\u001b[0;32m      <a href='vscode-notebook-cell:/c%3A/Users/dipad/OneDrive/Desktop/python%20class/question.ipynb#W1sZmlsZQ%3D%3D?line=8'>9</a>\u001b[0m         \u001b[39m\"\u001b[39m\u001b[39mPrice\u001b[39m\u001b[39m\"\u001b[39m: pet_price\n\u001b[0;32m     <a href='vscode-notebook-cell:/c%3A/Users/dipad/OneDrive/Desktop/python%20class/question.ipynb#W1sZmlsZQ%3D%3D?line=9'>10</a>\u001b[0m     }\n\u001b[1;32m---> <a href='vscode-notebook-cell:/c%3A/Users/dipad/OneDrive/Desktop/python%20class/question.ipynb#W1sZmlsZQ%3D%3D?line=10'>11</a>\u001b[0m     \u001b[39mself\u001b[39;49m\u001b[39m.\u001b[39;49mpets\u001b[39m.\u001b[39mappend(pet)\n",
      "\u001b[1;31mAttributeError\u001b[0m: 'PetStore' object has no attribute 'pets'"
     ]
    }
   ],
   "source": [
    "class PetStore:\n",
    "    def _init_(self):\n",
    "        self.pets = []\n",
    "\n",
    "    def store_pet_details(self, pet_name, pet_type, pet_price):\n",
    "        pet = {\n",
    "            \"Name\": pet_name,\n",
    "            \"Type\": pet_type,\n",
    "            \"Price\": pet_price\n",
    "        }\n",
    "        self.pets.append(pet)\n",
    "\n",
    "    def search_for_pet(self, pet_name):\n",
    "        for pet in self.pets:\n",
    "            if pet[\"Name\"] == pet_name:\n",
    "                return pet\n",
    "        return None\n",
    "\n",
    "    def sell_pet(self, pet_name):\n",
    "        pet = self.search_for_pet(pet_name)\n",
    "        if pet:\n",
    "            self.pets.remove(pet)\n",
    "            return pet\n",
    "        else:\n",
    "            return None\n",
    "\n",
    "    def list_all_pets(self):\n",
    "        return self.pets\n",
    "\n",
    "if __name__ == \"__main__\":\n",
    "    pet_store = PetStore()\n",
    "\n",
    "    while True:\n",
    "        print(\"\\nPet Store Menu:\")\n",
    "        print(\"1. Add a new pet\")\n",
    "        print(\"2. Search for a pet\")\n",
    "        print(\"3. Sell a pet\")\n",
    "        print(\"4. List all pets\")\n",
    "        print(\"5. Exit\")\n",
    "\n",
    "        choice = input(\"Enter your choice: \")\n",
    "\n",
    "        if choice == \"1\":\n",
    "            pet_name = input(\"Enter pet name: \")\n",
    "            pet_type = input(\"Enter pet type: \")\n",
    "            pet_price = float(input(\"Enter pet price: \"))\n",
    "            pet_store.store_pet_details(pet_name, pet_type, pet_price)\n",
    "            print(f\"{pet_name} has been added to the store.\")\n",
    "\n",
    "        elif choice == \"2\":\n",
    "            pet_name = input(\"Enter the name of the pet to search: \")\n",
    "            pet = pet_store.search_for_pet(pet_name)\n",
    "            if pet:\n",
    "                print(f\"Pet found: {pet['Name']} ({pet['Type']}) - Price: ${pet['Price']}\")\n",
    "            else:\n",
    "                print(\"Pet not found in the store.\")\n",
    "\n",
    "        elif choice == \"3\":\n",
    "            pet_name = input(\"Enter the name of the pet to sell: \")\n",
    "            sold_pet = pet_store.sell_pet(pet_name)\n",
    "            if sold_pet:\n",
    "                print(f\"{sold_pet['Name']} has been sold for ${sold_pet['Price']}\")\n",
    "            else:\n",
    "                print(\"Pet not found in the store.\")\n",
    "\n",
    "        elif choice == \"4\":\n",
    "            pets = pet_store.list_all_pets()\n",
    "            if pets:\n",
    "                print(\"List of all pets in the store:\")\n",
    "                for pet in pets:\n",
    "                    print(f\"{pet['Name']} ({pet['Type']}) - Price: ${pet['Price']}\")\n",
    "            else:\n",
    "                print(\"No pets available in the store.\")\n",
    "\n",
    "        elif choice == \"5\":\n",
    "            print(\"Exiting the Pet Store. Goodbye!\")\n",
    "            break\n",
    "\n",
    "        else:\n",
    "            print(\"Invalid choice. Please choose a valid option.\")\n"
   ]
  },
  {
   "cell_type": "code",
   "execution_count": 1,
   "metadata": {},
   "outputs": [],
   "source": [
    "def csv_file():\n",
    "    with open('items.csv','r') as file:\n",
    "        reader = csv.reader(file)\n",
    "        for lines in reader:\n",
    "            print(lines)\n"
   ]
  },
  {
   "cell_type": "code",
   "execution_count": null,
   "metadata": {},
   "outputs": [],
   "source": []
  }
 ],
 "metadata": {
  "kernelspec": {
   "display_name": "Python 3",
   "language": "python",
   "name": "python3"
  },
  "language_info": {
   "codemirror_mode": {
    "name": "ipython",
    "version": 3
   },
   "file_extension": ".py",
   "mimetype": "text/x-python",
   "name": "python",
   "nbconvert_exporter": "python",
   "pygments_lexer": "ipython3",
   "version": "3.11.6"
  }
 },
 "nbformat": 4,
 "nbformat_minor": 2
}
