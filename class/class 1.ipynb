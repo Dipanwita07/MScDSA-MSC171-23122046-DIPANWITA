{
 "cells": [
  {
   "cell_type": "code",
   "execution_count": 2,
   "metadata": {},
   "outputs": [
    {
     "ename": "SyntaxError",
     "evalue": "Missing parentheses in call to 'print'. Did you mean print(...)? (1131476535.py, line 3)",
     "output_type": "error",
     "traceback": [
      "\u001b[1;36m  Cell \u001b[1;32mIn[2], line 3\u001b[1;36m\u001b[0m\n\u001b[1;33m    print a\u001b[0m\n\u001b[1;37m    ^\u001b[0m\n\u001b[1;31mSyntaxError\u001b[0m\u001b[1;31m:\u001b[0m Missing parentheses in call to 'print'. Did you mean print(...)?\n"
     ]
    }
   ],
   "source": [
    "a=0\n",
    "while a<5:\n",
    "    print a\n",
    "    a=a+1\n",
    "    a+=1 #short hand command)\n",
    "    "
   ]
  },
  {
   "cell_type": "code",
   "execution_count": 1,
   "metadata": {},
   "outputs": [
    {
     "name": "stdout",
     "output_type": "stream",
     "text": [
      "1\n",
      "2\n",
      "3\n",
      "4\n"
     ]
    }
   ],
   "source": [
    "#break | pass |continue (to break out of the loop)\n",
    "for item in range(1,20,1):\n",
    "    if item ==5:\n",
    "        break #break the condition and skip the next part\n",
    "    print(item)"
   ]
  },
  {
   "cell_type": "code",
   "execution_count": 4,
   "metadata": {},
   "outputs": [
    {
     "name": "stdout",
     "output_type": "stream",
     "text": [
      "1\n",
      "2\n",
      "3\n",
      "4\n",
      "5\n",
      "6\n",
      "7\n",
      "8\n",
      "9\n",
      "10\n",
      "11\n",
      "12\n",
      "13\n",
      "14\n",
      "15\n",
      "16\n",
      "17\n",
      "18\n",
      "19\n"
     ]
    }
   ],
   "source": [
    "for item in range(1,20,1):\n",
    "    if item ==5:\n",
    "        pass #it will not break, pass the condition\n",
    "    print(item)"
   ]
  },
  {
   "cell_type": "code",
   "execution_count": 5,
   "metadata": {},
   "outputs": [
    {
     "name": "stdout",
     "output_type": "stream",
     "text": [
      "1\n",
      "2\n",
      "3\n",
      "4\n",
      "6\n",
      "7\n",
      "8\n",
      "9\n",
      "10\n",
      "11\n",
      "12\n",
      "13\n",
      "14\n",
      "15\n",
      "16\n",
      "17\n",
      "18\n",
      "19\n"
     ]
    }
   ],
   "source": [
    "for item in range(1,20,1):\n",
    "    if item ==5:\n",
    "        continue #continue after 5 so 5 will not be printed\n",
    "    print(item)"
   ]
  },
  {
   "cell_type": "code",
   "execution_count": 8,
   "metadata": {},
   "outputs": [],
   "source": [
    "#if condition:\n",
    "#    if condition:\n",
    " #       print(\"\")\n",
    " #   else:\n",
    " #       pass\n",
    "#else"
   ]
  },
  {
   "cell_type": "code",
   "execution_count": 9,
   "metadata": {},
   "outputs": [
    {
     "name": "stdout",
     "output_type": "stream",
     "text": [
      "{'Apple', 'Pinapple', 'Orange', 'Banana'}\n"
     ]
    }
   ],
   "source": [
    "list_ex = [\"Apple\", \"Pineapple\", \"Banana\",\"Apple\", \"Apple\",\"Orange\"]  #to identify unique items\n",
    "print(set(list_ex)) #convert the list into a set"
   ]
  },
  {
   "cell_type": "code",
   "execution_count": 10,
   "metadata": {},
   "outputs": [
    {
     "name": "stdout",
     "output_type": "stream",
     "text": [
      "Apple\n",
      "Pinapple\n",
      "Orange\n",
      "Banana\n"
     ]
    }
   ],
   "source": [
    "list_ex = [\"Apple\", \"Pineapple\", \"Banana\",\"Apple\", \"Apple\",\"Orange\"]  \n",
    "set_ex =set(list_ex)\n",
    "for item in set_ex:\n",
    "    print(item) "
   ]
  },
  {
   "cell_type": "code",
   "execution_count": 12,
   "metadata": {},
   "outputs": [
    {
     "name": "stdout",
     "output_type": "stream",
     "text": [
      "<class 'list'>\n",
      "<class 'set'>\n",
      "<class 'list'>\n"
     ]
    }
   ],
   "source": [
    "list_ex = [\"Apple\", \"Pineapple\", \"Banana\",\"Apple\", \"Apple\",\"Orange\"]  \n",
    "set_ex = set(list_ex)\n",
    "back_to_list = list(set_ex)\n",
    "print(type(list_ex))\n",
    "print(type(set_ex))\n",
    "print(type(back_to_list))"
   ]
  },
  {
   "cell_type": "code",
   "execution_count": 15,
   "metadata": {},
   "outputs": [],
   "source": [
    "#write a program to accept 10 random strings, identify the unique items and their count.\n",
    "list_ex= [1]\n",
    "for item in range(0,20,1):\n",
    "    val = input(\"Enter value :\")\n",
    "    val= val.strip()\n",
    "    val= val.upper()\n",
    "    list_ex.append(val)\n",
    "    \n",
    "unique = set(list_ex)\n",
    "for item in unique:\n",
    "    count = 0\n",
    "    for vol in list_ex:\n",
    "        if item == val:\n",
    "            count += 1\n",
    "    print(item,\"Is present\",count, \"Items\")"
   ]
  }
 ],
 "metadata": {
  "kernelspec": {
   "display_name": "Python 3",
   "language": "python",
   "name": "python3"
  },
  "language_info": {
   "codemirror_mode": {
    "name": "ipython",
    "version": 3
   },
   "file_extension": ".py",
   "mimetype": "text/x-python",
   "name": "python",
   "nbconvert_exporter": "python",
   "pygments_lexer": "ipython3",
   "version": "3.11.5"
  },
  "orig_nbformat": 4
 },
 "nbformat": 4,
 "nbformat_minor": 2
}
