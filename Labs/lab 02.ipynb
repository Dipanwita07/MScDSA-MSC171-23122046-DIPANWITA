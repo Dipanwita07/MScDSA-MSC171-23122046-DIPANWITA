{
 "cells": [
  {
   "cell_type": "code",
   "execution_count": 3,
   "metadata": {},
   "outputs": [
    {
     "name": "stdout",
     "output_type": "stream",
     "text": [
      "Welcome to Alex's name collection program in Harmonyville!\n",
      "'ant' already exists in the list.\n",
      "Invalid name. Please enter a valid name.\n",
      "Names collected so far:\n",
      "ant\n",
      "ciya\n"
     ]
    }
   ],
   "source": [
    "def collect_names():\n",
    "    name_list = []\n",
    "\n",
    "    while True:\n",
    "        name = input(\"Enter a name (or 'q' to quit): \")\n",
    "\n",
    "        if name == 'q':\n",
    "            print(\"Names collected so far:\")\n",
    "            for n in name_list:\n",
    "                print(n)\n",
    "            break\n",
    "        elif name in name_list:\n",
    "            print(f\"'{name}' already exists in the list.\")\n",
    "        elif not name.isalpha() or not name:\n",
    "            print(\"Invalid name. Please enter a valid name.\")\n",
    "        else:\n",
    "            name_list.append(name)\n",
    "\n",
    "if __name__ == \"__main__\":\n",
    "    print(\"Welcome to Alex's name collection program in Harmonyville!\")\n",
    "    collect_names()\n"
   ]
  }
 ],
 "metadata": {
  "kernelspec": {
   "display_name": "Python 3",
   "language": "python",
   "name": "python3"
  },
  "language_info": {
   "codemirror_mode": {
    "name": "ipython",
    "version": 3
   },
   "file_extension": ".py",
   "mimetype": "text/x-python",
   "name": "python",
   "nbconvert_exporter": "python",
   "pygments_lexer": "ipython3",
   "version": "3.11.6"
  }
 },
 "nbformat": 4,
 "nbformat_minor": 2
}
