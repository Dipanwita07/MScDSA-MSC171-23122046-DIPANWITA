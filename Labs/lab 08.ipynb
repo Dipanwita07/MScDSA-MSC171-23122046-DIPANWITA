{
 "cells": [
  {
   "cell_type": "code",
   "execution_count": 1,
   "metadata": {},
   "outputs": [
    {
     "name": "stdout",
     "output_type": "stream",
     "text": [
      "Enter elements for matrix 1:\n",
      "Enter elements for matrix 2:\n",
      "Result of matrix multiplication:\n",
      "[4.0, 4.0]\n",
      "[4.0, 4.0]\n",
      "Result of matrix multiplication:\n",
      "[4.0, 4.0]\n",
      "[4.0, 4.0]\n"
     ]
    }
   ],
   "source": [
    "\n",
    "rows_1 = int(input(\"Enter the number of rows for matrix 1: \"))\n",
    "cols_1 = int(input(\"Enter the number of columns for matrix 1: \"))\n",
    "\n",
    "# Initialize an empty matrix 1\n",
    "A = []\n",
    "print(\"Enter elements for matrix 1:\")\n",
    "for i in range(rows_1):\n",
    "    row = []\n",
    "    for j in range(cols_1):\n",
    "        element = float(input(f\"Enter element at position ({i+1},{j+1}): \"))\n",
    "        row.append(element)\n",
    "    A.append(row)\n",
    "\n",
    "\n",
    "rows_2 = int(input(\"Enter the number of rows for matrix 2: \"))\n",
    "cols_2 = int(input(\"Enter the number of columns for matrix 2: \"))\n",
    "\n",
    "\n",
    "B = []\n",
    "print(\"Enter elements for matrix 2:\")\n",
    "for i in range(rows_2):\n",
    "    row = []\n",
    "    for j in range(cols_2):\n",
    "        element = float(input(f\"Enter element at position ({i+1},{j+1}): \"))\n",
    "        row.append(element)\n",
    "    B.append(row)\n",
    "if cols_1 != rows_2:\n",
    "    print(\"Matrix multiplication is not possible. The number of columns in matrix A must be equal to the number of rows in matrix B.\")\n",
    "else:\n",
    "    # Continue with matrix multiplication\n",
    "# Initialize a result matrix with zeros\n",
    "  result = [[0 for __for in range(cols_2)] for _ in range(rows_1)]\n",
    "\n",
    "# Perform matrix multiplication\n",
    "for i in range(rows_1):\n",
    "    for j in range(cols_2):\n",
    "        for k in range(cols_2):\n",
    "            result[i][j] += A[i][k] * B[k][j]\n",
    "\n",
    "# Print the result matrix\n",
    "print(\"Result of matrix multiplication:\")\n",
    "for row in result:\n",
    "    print(row)\n",
    "# Take user input for the dimensions and elements of matrices A and B (as shown above).\n",
    "\n",
    "# Check if matrices can be multiplied.\n",
    "\n",
    "if cols_1 != rows_2:\n",
    "    print(\"Matrix multiplication is not possible. The number of columns in matrix A must be equal to the number of rows in matrix B.\")\n",
    "else:\n",
    "    # Initialize a result matrix with zeros\n",
    "    result = [[0 for _ in range(cols_2)] for _ in range(rows_1)]\n",
    "\n",
    "    # Perform matrix multiplication\n",
    "    for i in range(rows_1):\n",
    "        for j in range(cols_2):\n",
    "            for k in range(cols_1):\n",
    "                result[i][j] += A[i][k] * B[k][j]\n",
    "\n",
    "    # Print the result matrix\n",
    "    print(\"Result of matrix multiplication:\")\n",
    "for row in result:\n",
    "    print(row)"
   ]
  }
 ],
 "metadata": {
  "kernelspec": {
   "display_name": "Python 3",
   "language": "python",
   "name": "python3"
  },
  "language_info": {
   "codemirror_mode": {
    "name": "ipython",
    "version": 3
   },
   "file_extension": ".py",
   "mimetype": "text/x-python",
   "name": "python",
   "nbconvert_exporter": "python",
   "pygments_lexer": "ipython3",
   "version": "3.11.6"
  }
 },
 "nbformat": 4,
 "nbformat_minor": 2
}
