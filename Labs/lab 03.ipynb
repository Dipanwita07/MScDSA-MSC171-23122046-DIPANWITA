{
 "cells": [
  {
   "cell_type": "code",
   "execution_count": 1,
   "metadata": {},
   "outputs": [
    {
     "name": "stdout",
     "output_type": "stream",
     "text": [
      "Mean (Custom): 542.94\n",
      "Mean (Built-in): 542.94\n",
      "Minimum (Custom): 17\n",
      "Minimum (Built-in): 17\n",
      "Maximum (Custom): 999\n",
      "Maximum (Built-in): 999\n",
      "Range (Custom): 982\n",
      "Range (Built-in): 982\n"
     ]
    }
   ],
   "source": [
    "def custom_mean(numbers):\n",
    "    if not numbers:\n",
    "        return None\n",
    "    total = 0\n",
    "    for number in numbers:\n",
    "        total += number\n",
    "    return total / len(numbers)\n",
    "\n",
    "def custom_min(numbers):\n",
    "    if not numbers:\n",
    "        return None\n",
    "    min_value = numbers[0]\n",
    "    for number in numbers:\n",
    "        if number < min_value:\n",
    "            min_value = number\n",
    "    return min_value\n",
    "\n",
    "def custom_max(numbers):\n",
    "    if not numbers:\n",
    "        return None\n",
    "    max_value = numbers[0]\n",
    "    for number in numbers:\n",
    "        if number > max_value:\n",
    "            max_value = number\n",
    "    return max_value\n",
    "\n",
    "def custom_range(numbers):\n",
    "    if not numbers:\n",
    "        return None\n",
    "    min_value = custom_min(numbers)\n",
    "    max_value = custom_max(numbers)\n",
    "    return max_value - min_value\n",
    "\n",
    "# Given list of numbers\n",
    "numbers = [761, 123, 585, 275, 194, 840, 999, 622, 763, 40, 825, 687, 402, 338, 611, 987, 739, 95, 819, 568, 320, 126, 688, 948, 514, 223, 751, 379, 857, 767, 492, 162, 437, 934, 430, 343, 725, 511, 580, 678, 708, 823, 346, 179, 786, 663, 195, 890, 267, 502, 214, 300, 786, 961, 235, 559, 992, 919, 948, 318, 57, 787, 653, 317, 305, 172, 966, 182, 970, 17, 89, 624, 629, 595, 485, 752, 984, 978, 460, 124, 321, 256, 614, 852, 811, 561, 127, 207, 406, 615, 888, 391, 691, 470, 911, 401, 137, 600, 478, 682]\n",
    "\n",
    "# Calculate mean, minimum, maximum, and range using custom functions\n",
    "mean_custom = custom_mean(numbers)\n",
    "min_custom = custom_min(numbers)\n",
    "max_custom = custom_max(numbers)\n",
    "range_custom = custom_range(numbers)\n",
    "\n",
    "# Calculate mean, minimum, maximum, and range using built-in functions\n",
    "mean_builtin = sum(numbers) / len(numbers)\n",
    "min_builtin = min(numbers)\n",
    "max_builtin = max(numbers)\n",
    "range_builtin = max(numbers) - min(numbers)\n",
    "\n",
    "# Compare results\n",
    "print(\"Mean (Custom):\", mean_custom)\n",
    "print(\"Mean (Built-in):\", mean_builtin)\n",
    "print(\"Minimum (Custom):\", min_custom)\n",
    "print(\"Minimum (Built-in):\", min_builtin)\n",
    "print(\"Maximum (Custom):\", max_custom)\n",
    "print(\"Maximum (Built-in):\", max_builtin)\n",
    "print(\"Range (Custom):\", range_custom)\n",
    "print(\"Range (Built-in):\", range_builtin)\n"
   ]
  }
 ],
 "metadata": {
  "kernelspec": {
   "display_name": "Python 3",
   "language": "python",
   "name": "python3"
  },
  "language_info": {
   "codemirror_mode": {
    "name": "ipython",
    "version": 3
   },
   "file_extension": ".py",
   "mimetype": "text/x-python",
   "name": "python",
   "nbconvert_exporter": "python",
   "pygments_lexer": "ipython3",
   "version": "3.11.6"
  }
 },
 "nbformat": 4,
 "nbformat_minor": 2
}
