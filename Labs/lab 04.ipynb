{
 "cells": [
  {
   "cell_type": "code",
   "execution_count": 1,
   "metadata": {},
   "outputs": [
    {
     "name": "stdout",
     "output_type": "stream",
     "text": [
      "Total Orders: 2\n",
      "Total Revenue: $175.00\n",
      "Average Order Price: $87.50\n",
      "Most Ordered Dish: Margherita Pizza\n",
      "Least Ordered Dish: Spaghetti Carbonara\n"
     ]
    }
   ],
   "source": [
    "import json\n",
    "\n",
    "# Define a class to manage orders\n",
    "class OrderManager:\n",
    "    def __init__(self, order_file):\n",
    "        self.order_file = order_file\n",
    "\n",
    "    def load_orders(self):\n",
    "        try:\n",
    "            with open(self.order_file, 'r') as file:\n",
    "                orders = json.load(file)\n",
    "            return orders\n",
    "        except FileNotFoundError:\n",
    "            return []\n",
    "\n",
    "    def display_order_statistics(self):\n",
    "        orders = self.load_orders()\n",
    "        if not orders:\n",
    "            print(\"No orders found.\")\n",
    "            return\n",
    "\n",
    "        total_orders = len(orders)\n",
    "        total_revenue = sum(order['total_price'] for order in orders)\n",
    "        average_order_price = total_revenue / total_orders\n",
    "        most_ordered_dish = max(orders, key=lambda x: x['quantity'])['dish']\n",
    "        least_ordered_dish = min(orders, key=lambda x: x['quantity'])['dish']\n",
    "\n",
    "        print(f\"Total Orders: {total_orders}\")\n",
    "        print(f\"Total Revenue: ${total_revenue:.2f}\")\n",
    "        print(f\"Average Order Price: ${average_order_price:.2f}\")\n",
    "        print(f\"Most Ordered Dish: {most_ordered_dish}\")\n",
    "        print(f\"Least Ordered Dish: {least_ordered_dish}\")\n",
    "\n",
    "# Sample data for orders (you can replace this with actual data)\n",
    "orders_data = [\n",
    "    {\n",
    "        'dish': 'Spaghetti Carbonara',\n",
    "        'quantity': 5,\n",
    "        'total_price': 75.00,\n",
    "    },\n",
    "    {\n",
    "        'dish': 'Margherita Pizza',\n",
    "        'quantity': 10,\n",
    "        'total_price': 100.00,\n",
    "    },\n",
    "    # Add more orders here\n",
    "]\n",
    "\n",
    "# Save sample data to a file (you can replace this with actual data)\n",
    "with open('orders.json', 'w') as file:\n",
    "    json.dump(orders_data, file)\n",
    "\n",
    "# Create an OrderManager instance\n",
    "order_manager = OrderManager('orders.json')\n",
    "\n",
    "# Display order statistics to Chef Amelia\n",
    "order_manager.display_order_statistics()\n"
   ]
  }
 ],
 "metadata": {
  "kernelspec": {
   "display_name": "Python 3",
   "language": "python",
   "name": "python3"
  },
  "language_info": {
   "codemirror_mode": {
    "name": "ipython",
    "version": 3
   },
   "file_extension": ".py",
   "mimetype": "text/x-python",
   "name": "python",
   "nbconvert_exporter": "python",
   "pygments_lexer": "ipython3",
   "version": "3.11.6"
  }
 },
 "nbformat": 4,
 "nbformat_minor": 2
}
