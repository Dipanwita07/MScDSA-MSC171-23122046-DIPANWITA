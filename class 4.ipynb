{
 "cells": [
  {
   "cell_type": "code",
   "execution_count": 7,
   "metadata": {},
   "outputs": [
    {
     "name": "stdout",
     "output_type": "stream",
     "text": [
      "contact saved successfully\n"
     ]
    }
   ],
   "source": [
    "#develop a contact management program where users can add, edit, delete, search contact details using a dictionary. the menu options would facilitate these actions.\n",
    "contacts={}\n",
    "def contacts():\n",
    "   name = input (\"Enter the name :\")\n",
    "   phone = input (\"Enter the phone no. :\")\n",
    "   email = input (\"Enter the email id :\")\n",
    "   contacts[name] = {\"phone\":phone,\n",
    "                  \"email\":email}\n",
    "print(\"contact saved successfully\")\n",
    "\n",
    "def edit_contacts():\n",
    "    name = input(\"Enter the name to edit :\")\n",
    "    if name in contacts:\n",
    "        phone = input(\"Enter the phone no. to edit:\")\n",
    "        email = input(\"Enter the email id to edit\")\n",
    "        contacts[name] = {\"phone\":\"phone\",\n",
    "                  \"email\":\"email\"}\n",
    "        print(\"Contact updated successfully\")\n",
    "    else:  \n",
    "      (\"Contact does not found\")\n",
    "\n",
    "def delete_contacts():\n",
    "    name = input(\"Enter the name to delete\")\n",
    "    if name in contacts:\n",
    "       del contacts[name] \n",
    "       print(\"Contact deleted successfully\")\n",
    "    else:\n",
    "        (\"Contact does not found\")\n",
    "\n",
    "def search_contacts():\n",
    "     name = input(\"Enter the name to search\")\n",
    "     if name in contacts:\n",
    "        contact =contacts[name] \n",
    "         print(\"phone: {contact['phone']}\")\n",
    "        print(\"email : {contact['email]}\")\n",
    "     else:\n",
    "       (\"Contact does not found\")\n",
    "       \n",
    "\n",
    "\n",
    "\n",
    "        \n",
    "        \n",
    "    \n"
   ]
  },
  {
   "cell_type": "code",
   "execution_count": null,
   "metadata": {},
   "outputs": [],
   "source": []
  }
 ],
 "metadata": {
  "kernelspec": {
   "display_name": "Python 3",
   "language": "python",
   "name": "python3"
  },
  "language_info": {
   "codemirror_mode": {
    "name": "ipython",
    "version": 3
   },
   "file_extension": ".py",
   "mimetype": "text/x-python",
   "name": "python",
   "nbconvert_exporter": "python",
   "pygments_lexer": "ipython3",
   "version": "3.11.5"
  },
  "orig_nbformat": 4
 },
 "nbformat": 4,
 "nbformat_minor": 2
}
