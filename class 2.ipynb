{
 "cells": [
  {
   "cell_type": "code",
   "execution_count": null,
   "metadata": {},
   "outputs": [],
   "source": [
    "my_dict = () #empty dictonary\n",
    "my_dict = (\"Name\" :\"Dipanwita\") \n",
    "my_dict = (\"Name\": [\"Dipanwita\",\"Koyel\"]) \n",
    "my_dict = {\"Name\" :\"Dipanwita\",\n",
    "           \"Age\" : 21\n",
    "           \"Boolean value\" :True}\n",
    "\n",
    "\n"
   ]
  },
  {
   "cell_type": "code",
   "execution_count": 18,
   "metadata": {},
   "outputs": [
    {
     "name": "stdout",
     "output_type": "stream",
     "text": [
      "Dipanwita\n"
     ]
    }
   ],
   "source": [
    "my_dict = {\"Name\" :\"Dipanwita\",\n",
    "           \"Age\" : 21,\n",
    "           \"Boolean value\" :True}\n",
    "print(my_dict[\"Name\"])"
   ]
  },
  {
   "cell_type": "code",
   "execution_count": 20,
   "metadata": {},
   "outputs": [
    {
     "name": "stdout",
     "output_type": "stream",
     "text": [
      "{'Name': 'NEW NAME', 'Age': 21, 'Boolean value': True}\n"
     ]
    }
   ],
   "source": [
    "my_dict[\"Name\"]= \"NEW NAME\" #replace the previous one with a new one\n",
    "print(my_dict)"
   ]
  },
  {
   "cell_type": "code",
   "execution_count": 1,
   "metadata": {},
   "outputs": [
    {
     "ename": "NameError",
     "evalue": "name 'my_dict' is not defined",
     "output_type": "error",
     "traceback": [
      "\u001b[1;31m---------------------------------------------------------------------------\u001b[0m",
      "\u001b[1;31mNameError\u001b[0m                                 Traceback (most recent call last)",
      "\u001b[1;32mUntitled-1.ipynb Cell 3\u001b[0m line \u001b[0;36m1\n\u001b[1;32m----> <a href='vscode-notebook-cell:Untitled-1.ipynb?jupyter-notebook#W1sdW50aXRsZWQ%3D?line=0'>1</a>\u001b[0m my_dict[\u001b[39m\"\u001b[39m\u001b[39mNames\u001b[39m\u001b[39m\"\u001b[39m] \u001b[39m=\u001b[39m \u001b[39m\"\u001b[39m\u001b[39mNEW NAME\u001b[39m\u001b[39m\"\u001b[39m\n\u001b[0;32m      <a href='vscode-notebook-cell:Untitled-1.ipynb?jupyter-notebook#W1sdW50aXRsZWQ%3D?line=1'>2</a>\u001b[0m \u001b[39mprint\u001b[39m(my_dict)\n",
      "\u001b[1;31mNameError\u001b[0m: name 'my_dict' is not defined"
     ]
    }
   ],
   "source": [
    "my_dict[\"Names\"] = \"NEW NAME\"\n",
    "print(my_dict)"
   ]
  },
  {
   "cell_type": "code",
   "execution_count": null,
   "metadata": {},
   "outputs": [],
   "source": [
    "my_dict.values() #extracting the values"
   ]
  },
  {
   "cell_type": "code",
   "execution_count": null,
   "metadata": {},
   "outputs": [],
   "source": [
    "print(mydict.values[])"
   ]
  },
  {
   "cell_type": "code",
   "execution_count": 6,
   "metadata": {},
   "outputs": [],
   "source": [
    "student = {\n",
    "    \"msdsa\" : {\n",
    "        \"01\":{\n",
    "            \"name\": \"abc\",\n",
    "            \"phone\" : \"5687565765\"\n",
    "        },\n",
    "        \"02\" :{\n",
    "            \"name\" :\"sdv\",\n",
    "            \"phone\" :\"56758768\"\n",
    "        }\n",
    "    }\n",
    "}"
   ]
  },
  {
   "cell_type": "code",
   "execution_count": 13,
   "metadata": {},
   "outputs": [
    {
     "name": "stdout",
     "output_type": "stream",
     "text": [
      "{'name': 'abc', 'phone': '5687565765'}\n"
     ]
    }
   ],
   "source": [
    "student = {       \n",
    "    \"msdsa\" : {\n",
    "        \"01\":{\n",
    "            \"name\": \"abc\",\n",
    "            \"phone\" : \"5687565765\"\n",
    "        },\n",
    "        \"02\" :{\n",
    "            \"name\" :\"sdv\",\n",
    "            \"phone\" :\"56758768\"\n",
    "        }\n",
    "    }\n",
    "}\n",
    "print(student[\"msdsa\"][\"01\"])  #there will be no comma"
   ]
  },
  {
   "cell_type": "code",
   "execution_count": 11,
   "metadata": {},
   "outputs": [
    {
     "name": "stdout",
     "output_type": "stream",
     "text": [
      "{'msdsa': {'01': {'name': 'abc', 'phone': '5687565765'}, '02': {'name': 'sdv', 'phone': '56758768'}}}\n"
     ]
    }
   ],
   "source": [
    "student = {\n",
    "    \"msdsa\" : {\n",
    "        \"01\":{\n",
    "            \"name\": \"abc\",\n",
    "            \"phone\" : \"5687565765\"\n",
    "        },\n",
    "        \"02\" :{\n",
    "            \"name\" :\"sdv\",\n",
    "            \"phone\" :\"56758768\"\n",
    "        }\n",
    "    }\n",
    "}\n",
    "print(student)"
   ]
  },
  {
   "cell_type": "code",
   "execution_count": 16,
   "metadata": {},
   "outputs": [
    {
     "name": "stdout",
     "output_type": "stream",
     "text": [
      "{'rollnumber': 231220001, 'name': 'Dipanwita', 'phone': 345679997, 'email': 'sdsgdf@gmail.com'}\n",
      "231220001\tDipanwita\t345679997\tsdsgdf@gmail.com\t\n",
      "{'rollnumber': 231220002, 'name': 'Dipa', 'phone': 345679, 'email': 'df@gmail.com'}\n",
      "231220002\tDipa\t345679\tdf@gmail.com\t\n"
     ]
    }
   ],
   "source": [
    "mscdsa = [\n",
    "    {\n",
    "        \"rollnumber\" : 231220001,\n",
    "        \"name\" : \"Dipanwita\",\n",
    "        \"phone\" : 345679997,\n",
    "        \"email\" : \"sdsgdf@gmail.com\",\n",
    "    },\n",
    "    {\n",
    "      \"rollnumber\" : 231220002,\n",
    "        \"name\" : \"Dipa\",\n",
    "        \"phone\" : 345679,\n",
    "        \"email\" : \"df@gmail.com\",  \n",
    "    }\n",
    "    \n",
    "]\n",
    "for student in mscdsa:     #printing in tabular form\n",
    "    print(student)\n",
    "    for key in student.keys():  #printing the 2nd element in the pair\n",
    "        print(student[key], end = \"\\t\")\n",
    "    print()\n"
   ]
  },
  {
   "cell_type": "code",
   "execution_count": null,
   "metadata": {},
   "outputs": [],
   "source": []
  }
 ],
 "metadata": {
  "kernelspec": {
   "display_name": "Python 3",
   "language": "python",
   "name": "python3"
  },
  "language_info": {
   "codemirror_mode": {
    "name": "ipython",
    "version": 3
   },
   "file_extension": ".py",
   "mimetype": "text/x-python",
   "name": "python",
   "nbconvert_exporter": "python",
   "pygments_lexer": "ipython3",
   "version": "3.11.5"
  },
  "orig_nbformat": 4
 },
 "nbformat": 4,
 "nbformat_minor": 2
}
